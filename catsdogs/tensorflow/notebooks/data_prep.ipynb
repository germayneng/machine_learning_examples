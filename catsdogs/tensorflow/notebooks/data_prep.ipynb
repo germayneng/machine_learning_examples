{
 "cells": [
  {
   "cell_type": "markdown",
   "metadata": {},
   "source": [
    "### Libraries and datasets required"
   ]
  },
  {
   "cell_type": "markdown",
   "metadata": {},
   "source": [
    "original dataset from  https://storage.googleapis.com/mledu-datasets/cats_and_dogs_filtered.zip \\\n",
    "Images: 3000 (2000 Training, 1000 Validation) "
   ]
  },
  {
   "cell_type": "code",
   "execution_count": 96,
   "metadata": {},
   "outputs": [
    {
     "name": "stdout",
     "output_type": "stream",
     "text": [
      "0.10.4\n"
     ]
    }
   ],
   "source": [
    "import os\n",
    "import pandas as pd\n",
    "import tfrecorder\n",
    "import wandb \n",
    "print(wandb.__version__)\n",
    "import tensorflow as tf\n",
    "import time"
   ]
  },
  {
   "cell_type": "code",
   "execution_count": 97,
   "metadata": {},
   "outputs": [],
   "source": [
    "os.system('wandb login 3a6710e811d34207ea03768ba12e7ea6c8a9fefd')\n",
    "os.environ['WANDB_NOTEBOOK_NAME'] = 'data_prep.ipynb'"
   ]
  },
  {
   "cell_type": "markdown",
   "metadata": {},
   "source": [
    "### GCS Fuse to be able to use os utilities on GCS without copying data"
   ]
  },
  {
   "cell_type": "code",
   "execution_count": 98,
   "metadata": {},
   "outputs": [],
   "source": [
    "#!gcsfuse --implicit-dirs mchrestkha-demo-env-ml-examples /home/jupyter/gcs/ \n",
    "#!fusermount -u /home/jupyter/gcs/"
   ]
  },
  {
   "cell_type": "markdown",
   "metadata": {},
   "source": [
    "### Collect all image URIs"
   ]
  },
  {
   "cell_type": "code",
   "execution_count": 108,
   "metadata": {},
   "outputs": [
    {
     "data": {
      "text/html": [
       "\n",
       "                Tracking run with wandb version 0.10.4<br/>\n",
       "                Syncing run <strong style=\"color:#cdcd00\">set_up_data_20201005_053719</strong> to <a href=\"https://wandb.ai\" target=\"_blank\">Weights & Biases</a> <a href=\"https://docs.wandb.com/integrations/jupyter.html\" target=\"_blank\">(Documentation)</a>.<br/>\n",
       "                Project page: <a href=\"https://wandb.ai/mchrestkha/cats-dogs-keras\" target=\"_blank\">https://wandb.ai/mchrestkha/cats-dogs-keras</a><br/>\n",
       "                Run page: <a href=\"https://wandb.ai/mchrestkha/cats-dogs-keras/runs/596flvgm\" target=\"_blank\">https://wandb.ai/mchrestkha/cats-dogs-keras/runs/596flvgm</a><br/>\n",
       "                Run data is saved locally in <code>wandb/run-20201005_053719-596flvgm</code><br/><br/>\n",
       "            "
      ],
      "text/plain": [
       "<IPython.core.display.HTML object>"
      ]
     },
     "metadata": {},
     "output_type": "display_data"
    }
   ],
   "source": [
    "RUN_NAME=time.strftime(\"set_up_data_%Y%m%d_%H%M%S\")\n",
    "run = wandb.init(project='cats-dogs-keras', job_type='data', name=RUN_NAME)"
   ]
  },
  {
   "cell_type": "code",
   "execution_count": 115,
   "metadata": {},
   "outputs": [],
   "source": [
    "wandb.log({\"cat_examples\": wandb.Image(\"/home/jupyter/gcs/catsdogs/train/cats/cat.1.jpg\", caption=\"Cat1\")})\n",
    "wandb.log({\"cat_examples\": wandb.Image(\"/home/jupyter/gcs/catsdogs/train/cats/cat.2.jpg\", caption=\"Cat2\")})\n",
    "wandb.log({\"dog_examples\": wandb.Image(\"/home/jupyter/gcs/catsdogs/train/dogs/dog.1.jpg\", caption=\"Dog1\")})\n",
    "wandb.log({\"dog_examples\": wandb.Image(\"/home/jupyter/gcs/catsdogs/train/dogs/dog.2.jpg\", caption=\"Dog2\")})"
   ]
  },
  {
   "cell_type": "code",
   "execution_count": null,
   "metadata": {},
   "outputs": [],
   "source": [
    "myDir='/home/jupyter/gcs/catsdogs/'\n",
    "format='.jpg'\n",
    "fileList = []\n",
    "for root, dirs, files in os.walk(myDir, topdown=False):\n",
    "        for name in files:\n",
    "            if name.endswith(format):\n",
    "                fullName = os.path.join(root, name)\n",
    "                fileList.append(fullName)\n",
    "                \n",
    "fileList[:10]"
   ]
  },
  {
   "cell_type": "code",
   "execution_count": null,
   "metadata": {},
   "outputs": [],
   "source": [
    "df=pd.DataFrame(fileList)\n",
    "df.columns = ['image_uri']\n",
    "df.head()"
   ]
  },
  {
   "cell_type": "code",
   "execution_count": null,
   "metadata": {},
   "outputs": [],
   "source": [
    "df.loc[df['image_uri'].str.contains('train'), 'split'] = 'TRAIN'\n",
    "df.loc[df['image_uri'].str.contains('validation'), 'split'] = 'VALIDATION'\n",
    "df.loc[df['image_uri'].str.contains('|'.join(['train/cats', 'validation/cats'])), 'label'] = 'cats'\n",
    "df.loc[df['image_uri'].str.contains('|'.join(['train/dogs', 'validation/dogs'])), 'label'] = 'dogs'\n",
    "df = df[['split', 'image_uri', 'label']]\n",
    "df.head()"
   ]
  },
  {
   "cell_type": "code",
   "execution_count": null,
   "metadata": {},
   "outputs": [],
   "source": [
    "dflocal=df.copy()\n",
    "dfgcs=df.copy()\n",
    "dfgcs['image_uri'] = dfgcs['image_uri'].str.replace('/home/jupyter/gcs','gs://mchrestkha-demo-env-ml-examples')\n",
    "dflocal.to_csv('../data/datalocal1.csv', index=False)\n",
    "dfgcs.to_csv('../data/datagcs1.csv', index=False)"
   ]
  },
  {
   "cell_type": "code",
   "execution_count": null,
   "metadata": {},
   "outputs": [],
   "source": [
    "artifact = wandb.Artifact(name='training_images', type='dataset')\n",
    "artifact.add_reference('gs://mchrestkha-demo-env-ml-examples/catsdogs/train/')\n",
    "run.log_artifact(artifact)\n",
    "artifact = wandb.Artifact(name='validation_images', type='dataset')\n",
    "artifact.add_reference('gs://mchrestkha-demo-env-ml-examples/catsdogs/validation/')\n",
    "run.log_artifact(artifact)\n",
    "artifact = wandb.Artifact(name='image_uris_csv', type='dataset')\n",
    "artifact.add_file('../data/datagcs.csv')\n",
    "run.log_artifact(artifact)\n",
    "run.finish()"
   ]
  },
  {
   "cell_type": "code",
   "execution_count": null,
   "metadata": {},
   "outputs": [],
   "source": [
    "RUN_NAME=time.strftime(\"generate_tfrecords_%Y%m%d_%H%M%S\")\n",
    "run = wandb.init(project='cats-dogs-keras',job_type='data', name=RUN_NAME)\n",
    "artifact = run.use_artifact('training_images:latest')\n",
    "artifact = run.use_artifact('validation_images:latest')\n",
    "artifact = run.use_artifact('image_uris_csv:latest')"
   ]
  },
  {
   "cell_type": "code",
   "execution_count": null,
   "metadata": {},
   "outputs": [],
   "source": [
    "FILENAME='../data/datagcs.csv'\n",
    "TFRECORD_OUTPUT='gs://mchrestkha-demo-env-ml-examples/catsdogs/tfrecords'\n",
    "PROJECT='mchrestkha-demo-env'\n",
    "REGION='us-west1'\n",
    "TFRECORDER_WHEEL='/home/jupyter/tfrecorder_wheel/tfrecorder-0.1.2-py3-none-any.whl'\n",
    "\n",
    "\n",
    "dfgcs = pd.read_csv(FILENAME)\n",
    "dfgcs.tensorflow.to_tfr(\n",
    "    output_dir=TFRECORD_OUTPUT,\n",
    "    runner='DataflowRunner',\n",
    "    project=PROJECT,\n",
    "    region=REGION,\n",
    "    tfrecorder_wheel=TFRECORDER_WHEEL)"
   ]
  },
  {
   "cell_type": "code",
   "execution_count": null,
   "metadata": {},
   "outputs": [],
   "source": [
    "dfgcs"
   ]
  },
  {
   "cell_type": "code",
   "execution_count": null,
   "metadata": {},
   "outputs": [],
   "source": [
    "artifact = wandb.Artifact(name='tfrecords', type='dataset')\n",
    "artifact.add_reference('gs://mchrestkha-demo-env-ml-examples/catsdogs/tfrecords/')\n",
    "run.log_artifact(artifact)\n",
    "run.finish()"
   ]
  }
 ],
 "metadata": {
  "environment": {
   "name": "tf2-2-3-gpu.2-3.m55",
   "type": "gcloud",
   "uri": "gcr.io/deeplearning-platform-release/tf2-2-3-gpu.2-3:m55"
  },
  "kernelspec": {
   "display_name": "mchrestkha-env",
   "language": "python",
   "name": "mchrestkha-env"
  },
  "language_info": {
   "codemirror_mode": {
    "name": "ipython",
    "version": 3
   },
   "file_extension": ".py",
   "mimetype": "text/x-python",
   "name": "python",
   "nbconvert_exporter": "python",
   "pygments_lexer": "ipython3",
   "version": "3.7.8"
  }
 },
 "nbformat": 4,
 "nbformat_minor": 4
}
