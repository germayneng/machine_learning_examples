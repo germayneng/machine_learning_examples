{
 "cells": [
  {
   "cell_type": "markdown",
   "metadata": {},
   "source": [
    "original dataset from  https://storage.googleapis.com/mledu-datasets/cats_and_dogs_filtered.zip \\"
   ]
  },
  {
   "cell_type": "code",
   "execution_count": 31,
   "metadata": {},
   "outputs": [
    {
     "name": "stderr",
     "output_type": "stream",
     "text": [
      "Error importing tfx_bsl_extension.arrow.array_util. Some tfx_bsl functionalities are not available"
     ]
    }
   ],
   "source": [
    "import os\n",
    "import pandas as pd\n",
    "import tfrecorder"
   ]
  },
  {
   "cell_type": "code",
   "execution_count": 2,
   "metadata": {},
   "outputs": [
    {
     "name": "stdout",
     "output_type": "stream",
     "text": [
      "Using mount point: /home/jupyter/gcs\n",
      "Opening GCS connection...\n",
      "Opening bucket...\n",
      "Mounting file system...\n",
      "File system has been successfully mounted.\n"
     ]
    }
   ],
   "source": [
    "!gcsfuse --implicit-dirs mchrestkha-demo-env-ml-examples /home/jupyter/gcs/ \n",
    "#!fusermount -u /home/jupyter/gcs/"
   ]
  },
  {
   "cell_type": "code",
   "execution_count": 3,
   "metadata": {},
   "outputs": [
    {
     "name": "stdout",
     "output_type": "stream",
     "text": [
      "/home/jupyter/gcs/catsdogs/\n"
     ]
    }
   ],
   "source": [
    "myDir='/home/jupyter/gcs/catsdogs/'\n",
    "format='.jpg'\n",
    "fileList = []\n",
    "print(myDir)\n",
    "for root, dirs, files in os.walk(myDir, topdown=False):\n",
    "        for name in files:\n",
    "            if name.endswith(format):\n",
    "                fullName = os.path.join(root, name)\n",
    "                fileList.append(fullName)"
   ]
  },
  {
   "cell_type": "code",
   "execution_count": 35,
   "metadata": {},
   "outputs": [],
   "source": [
    "df=pd.DataFrame(fileList)\n",
    "df.columns = ['image_uri']"
   ]
  },
  {
   "cell_type": "code",
   "execution_count": 36,
   "metadata": {},
   "outputs": [
    {
     "data": {
      "text/html": [
       "<div>\n",
       "<style scoped>\n",
       "    .dataframe tbody tr th:only-of-type {\n",
       "        vertical-align: middle;\n",
       "    }\n",
       "\n",
       "    .dataframe tbody tr th {\n",
       "        vertical-align: top;\n",
       "    }\n",
       "\n",
       "    .dataframe thead th {\n",
       "        text-align: right;\n",
       "    }\n",
       "</style>\n",
       "<table border=\"1\" class=\"dataframe\">\n",
       "  <thead>\n",
       "    <tr style=\"text-align: right;\">\n",
       "      <th></th>\n",
       "      <th>image_uri</th>\n",
       "    </tr>\n",
       "  </thead>\n",
       "  <tbody>\n",
       "    <tr>\n",
       "      <th>0</th>\n",
       "      <td>/home/jupyter/gcs/catsdogs/train/cats/cat.0.jpg</td>\n",
       "    </tr>\n",
       "    <tr>\n",
       "      <th>1</th>\n",
       "      <td>/home/jupyter/gcs/catsdogs/train/cats/cat.1.jpg</td>\n",
       "    </tr>\n",
       "    <tr>\n",
       "      <th>2</th>\n",
       "      <td>/home/jupyter/gcs/catsdogs/train/cats/cat.10.jpg</td>\n",
       "    </tr>\n",
       "    <tr>\n",
       "      <th>3</th>\n",
       "      <td>/home/jupyter/gcs/catsdogs/train/cats/cat.100.jpg</td>\n",
       "    </tr>\n",
       "    <tr>\n",
       "      <th>4</th>\n",
       "      <td>/home/jupyter/gcs/catsdogs/train/cats/cat.101.jpg</td>\n",
       "    </tr>\n",
       "    <tr>\n",
       "      <th>...</th>\n",
       "      <td>...</td>\n",
       "    </tr>\n",
       "    <tr>\n",
       "      <th>2995</th>\n",
       "      <td>/home/jupyter/gcs/catsdogs/validation/dogs/dog...</td>\n",
       "    </tr>\n",
       "    <tr>\n",
       "      <th>2996</th>\n",
       "      <td>/home/jupyter/gcs/catsdogs/validation/dogs/dog...</td>\n",
       "    </tr>\n",
       "    <tr>\n",
       "      <th>2997</th>\n",
       "      <td>/home/jupyter/gcs/catsdogs/validation/dogs/dog...</td>\n",
       "    </tr>\n",
       "    <tr>\n",
       "      <th>2998</th>\n",
       "      <td>/home/jupyter/gcs/catsdogs/validation/dogs/dog...</td>\n",
       "    </tr>\n",
       "    <tr>\n",
       "      <th>2999</th>\n",
       "      <td>/home/jupyter/gcs/catsdogs/validation/dogs/dog...</td>\n",
       "    </tr>\n",
       "  </tbody>\n",
       "</table>\n",
       "<p>3000 rows × 1 columns</p>\n",
       "</div>"
      ],
      "text/plain": [
       "                                              image_uri\n",
       "0       /home/jupyter/gcs/catsdogs/train/cats/cat.0.jpg\n",
       "1       /home/jupyter/gcs/catsdogs/train/cats/cat.1.jpg\n",
       "2      /home/jupyter/gcs/catsdogs/train/cats/cat.10.jpg\n",
       "3     /home/jupyter/gcs/catsdogs/train/cats/cat.100.jpg\n",
       "4     /home/jupyter/gcs/catsdogs/train/cats/cat.101.jpg\n",
       "...                                                 ...\n",
       "2995  /home/jupyter/gcs/catsdogs/validation/dogs/dog...\n",
       "2996  /home/jupyter/gcs/catsdogs/validation/dogs/dog...\n",
       "2997  /home/jupyter/gcs/catsdogs/validation/dogs/dog...\n",
       "2998  /home/jupyter/gcs/catsdogs/validation/dogs/dog...\n",
       "2999  /home/jupyter/gcs/catsdogs/validation/dogs/dog...\n",
       "\n",
       "[3000 rows x 1 columns]"
      ]
     },
     "execution_count": 36,
     "metadata": {},
     "output_type": "execute_result"
    }
   ],
   "source": [
    "df"
   ]
  },
  {
   "cell_type": "code",
   "execution_count": 37,
   "metadata": {},
   "outputs": [],
   "source": [
    "df.loc[df['image_uri'].str.contains('train'), 'split'] = 'TRAIN'\n",
    "df.loc[df['image_uri'].str.contains('validation'), 'split'] = 'VALIDATION'\n",
    "df.loc[df['image_uri'].str.contains('|'.join(['train/cats', 'validation/cats'])), 'label'] = 'cats'\n",
    "df.loc[df['image_uri'].str.contains('|'.join(['train/dogs', 'validation/dogs'])), 'label'] = 'dogs'"
   ]
  },
  {
   "cell_type": "code",
   "execution_count": 38,
   "metadata": {},
   "outputs": [],
   "source": [
    "df.to_csv('data.csv', index=False)  "
   ]
  },
  {
   "cell_type": "code",
   "execution_count": 39,
   "metadata": {},
   "outputs": [
    {
     "data": {
      "text/html": [
       "<div>\n",
       "<style scoped>\n",
       "    .dataframe tbody tr th:only-of-type {\n",
       "        vertical-align: middle;\n",
       "    }\n",
       "\n",
       "    .dataframe tbody tr th {\n",
       "        vertical-align: top;\n",
       "    }\n",
       "\n",
       "    .dataframe thead th {\n",
       "        text-align: right;\n",
       "    }\n",
       "</style>\n",
       "<table border=\"1\" class=\"dataframe\">\n",
       "  <thead>\n",
       "    <tr style=\"text-align: right;\">\n",
       "      <th></th>\n",
       "      <th>image_uri</th>\n",
       "      <th>split</th>\n",
       "      <th>label</th>\n",
       "    </tr>\n",
       "  </thead>\n",
       "  <tbody>\n",
       "    <tr>\n",
       "      <th>0</th>\n",
       "      <td>/home/jupyter/gcs/catsdogs/train/cats/cat.0.jpg</td>\n",
       "      <td>TRAIN</td>\n",
       "      <td>cats</td>\n",
       "    </tr>\n",
       "    <tr>\n",
       "      <th>1</th>\n",
       "      <td>/home/jupyter/gcs/catsdogs/train/cats/cat.1.jpg</td>\n",
       "      <td>TRAIN</td>\n",
       "      <td>cats</td>\n",
       "    </tr>\n",
       "    <tr>\n",
       "      <th>2</th>\n",
       "      <td>/home/jupyter/gcs/catsdogs/train/cats/cat.10.jpg</td>\n",
       "      <td>TRAIN</td>\n",
       "      <td>cats</td>\n",
       "    </tr>\n",
       "    <tr>\n",
       "      <th>3</th>\n",
       "      <td>/home/jupyter/gcs/catsdogs/train/cats/cat.100.jpg</td>\n",
       "      <td>TRAIN</td>\n",
       "      <td>cats</td>\n",
       "    </tr>\n",
       "    <tr>\n",
       "      <th>4</th>\n",
       "      <td>/home/jupyter/gcs/catsdogs/train/cats/cat.101.jpg</td>\n",
       "      <td>TRAIN</td>\n",
       "      <td>cats</td>\n",
       "    </tr>\n",
       "    <tr>\n",
       "      <th>...</th>\n",
       "      <td>...</td>\n",
       "      <td>...</td>\n",
       "      <td>...</td>\n",
       "    </tr>\n",
       "    <tr>\n",
       "      <th>2995</th>\n",
       "      <td>/home/jupyter/gcs/catsdogs/validation/dogs/dog...</td>\n",
       "      <td>VALIDATION</td>\n",
       "      <td>dogs</td>\n",
       "    </tr>\n",
       "    <tr>\n",
       "      <th>2996</th>\n",
       "      <td>/home/jupyter/gcs/catsdogs/validation/dogs/dog...</td>\n",
       "      <td>VALIDATION</td>\n",
       "      <td>dogs</td>\n",
       "    </tr>\n",
       "    <tr>\n",
       "      <th>2997</th>\n",
       "      <td>/home/jupyter/gcs/catsdogs/validation/dogs/dog...</td>\n",
       "      <td>VALIDATION</td>\n",
       "      <td>dogs</td>\n",
       "    </tr>\n",
       "    <tr>\n",
       "      <th>2998</th>\n",
       "      <td>/home/jupyter/gcs/catsdogs/validation/dogs/dog...</td>\n",
       "      <td>VALIDATION</td>\n",
       "      <td>dogs</td>\n",
       "    </tr>\n",
       "    <tr>\n",
       "      <th>2999</th>\n",
       "      <td>/home/jupyter/gcs/catsdogs/validation/dogs/dog...</td>\n",
       "      <td>VALIDATION</td>\n",
       "      <td>dogs</td>\n",
       "    </tr>\n",
       "  </tbody>\n",
       "</table>\n",
       "<p>3000 rows × 3 columns</p>\n",
       "</div>"
      ],
      "text/plain": [
       "                                              image_uri       split label\n",
       "0       /home/jupyter/gcs/catsdogs/train/cats/cat.0.jpg       TRAIN  cats\n",
       "1       /home/jupyter/gcs/catsdogs/train/cats/cat.1.jpg       TRAIN  cats\n",
       "2      /home/jupyter/gcs/catsdogs/train/cats/cat.10.jpg       TRAIN  cats\n",
       "3     /home/jupyter/gcs/catsdogs/train/cats/cat.100.jpg       TRAIN  cats\n",
       "4     /home/jupyter/gcs/catsdogs/train/cats/cat.101.jpg       TRAIN  cats\n",
       "...                                                 ...         ...   ...\n",
       "2995  /home/jupyter/gcs/catsdogs/validation/dogs/dog...  VALIDATION  dogs\n",
       "2996  /home/jupyter/gcs/catsdogs/validation/dogs/dog...  VALIDATION  dogs\n",
       "2997  /home/jupyter/gcs/catsdogs/validation/dogs/dog...  VALIDATION  dogs\n",
       "2998  /home/jupyter/gcs/catsdogs/validation/dogs/dog...  VALIDATION  dogs\n",
       "2999  /home/jupyter/gcs/catsdogs/validation/dogs/dog...  VALIDATION  dogs\n",
       "\n",
       "[3000 rows x 3 columns]"
      ]
     },
     "execution_count": 39,
     "metadata": {},
     "output_type": "execute_result"
    }
   ],
   "source": [
    "df"
   ]
  },
  {
   "cell_type": "code",
   "execution_count": null,
   "metadata": {},
   "outputs": [
    {
     "data": {
      "text/html": [
       "<b>Logging output to /tmp/tfrecorder-beam.log </b>"
      ],
      "text/plain": [
       "<IPython.core.display.HTML object>"
      ]
     },
     "metadata": {},
     "output_type": "display_data"
    },
    {
     "data": {
      "application/javascript": [
       "\n",
       "        if (typeof window.interactive_beam_jquery == 'undefined') {\n",
       "          var jqueryScript = document.createElement('script');\n",
       "          jqueryScript.src = 'https://code.jquery.com/jquery-3.4.1.slim.min.js';\n",
       "          jqueryScript.type = 'text/javascript';\n",
       "          jqueryScript.onload = function() {\n",
       "            var datatableScript = document.createElement('script');\n",
       "            datatableScript.src = 'https://cdn.datatables.net/1.10.20/js/jquery.dataTables.min.js';\n",
       "            datatableScript.type = 'text/javascript';\n",
       "            datatableScript.onload = function() {\n",
       "              window.interactive_beam_jquery = jQuery.noConflict(true);\n",
       "              window.interactive_beam_jquery(document).ready(function($){\n",
       "                \n",
       "              });\n",
       "            }\n",
       "            document.head.appendChild(datatableScript);\n",
       "          };\n",
       "          document.head.appendChild(jqueryScript);\n",
       "        } else {\n",
       "          window.interactive_beam_jquery(document).ready(function($){\n",
       "            \n",
       "          });\n",
       "        }"
      ]
     },
     "metadata": {},
     "output_type": "display_data"
    },
    {
     "data": {
      "application/javascript": [
       "\n",
       "        var import_html = () => {\n",
       "          ['https://raw.githubusercontent.com/PAIR-code/facets/1.0.0/facets-dist/facets-jupyter.html'].forEach(href => {\n",
       "            var link = document.createElement('link');\n",
       "            link.rel = 'import'\n",
       "            link.href = href;\n",
       "            document.head.appendChild(link);\n",
       "          });\n",
       "        }\n",
       "        if ('import' in document.createElement('link')) {\n",
       "          import_html();\n",
       "        } else {\n",
       "          var webcomponentScript = document.createElement('script');\n",
       "          webcomponentScript.src = 'https://cdnjs.cloudflare.com/ajax/libs/webcomponentsjs/1.3.3/webcomponents-lite.js';\n",
       "          webcomponentScript.type = 'text/javascript';\n",
       "          webcomponentScript.onload = function(){\n",
       "            import_html();\n",
       "          };\n",
       "          document.head.appendChild(webcomponentScript);\n",
       "        }"
      ]
     },
     "metadata": {},
     "output_type": "display_data"
    }
   ],
   "source": [
    "df = pd.read_csv(\"data.csv\")\n",
    "df = df[['split', 'image_uri', 'label']]\n",
    "\n",
    "df.tensorflow.to_tfr(output_dir='/home/jupyter/tfrecorder')"
   ]
  },
  {
   "cell_type": "code",
   "execution_count": null,
   "metadata": {},
   "outputs": [],
   "source": [
    "df"
   ]
  },
  {
   "cell_type": "code",
   "execution_count": 1,
   "metadata": {},
   "outputs": [
    {
     "name": "stdout",
     "output_type": "stream",
     "text": [
      "fusermount: entry for /home/jupyter/gcsfuse not found in /etc/mtab\n"
     ]
    }
   ],
   "source": []
  },
  {
   "cell_type": "code",
   "execution_count": null,
   "metadata": {},
   "outputs": [],
   "source": [
    "def createFileList(myDir, format='.jpg'):\n",
    "    fileList = []\n",
    "    print(myDir)\n",
    "    for root, dirs, files in os.walk(myDir, topdown=False):\n",
    "        for name in files:\n",
    "            if name.endswith(format):\n",
    "                fullName = os.path.join(root, name)\n",
    "                fileList.append(fullName)\n",
    "    return fileList"
   ]
  }
 ],
 "metadata": {
  "environment": {
   "name": "tf2-2-3-gpu.2-3.m55",
   "type": "gcloud",
   "uri": "gcr.io/deeplearning-platform-release/tf2-2-3-gpu.2-3:m55"
  },
  "kernelspec": {
   "display_name": "Python 3",
   "language": "python",
   "name": "python3"
  },
  "language_info": {
   "codemirror_mode": {
    "name": "ipython",
    "version": 3
   },
   "file_extension": ".py",
   "mimetype": "text/x-python",
   "name": "python",
   "nbconvert_exporter": "python",
   "pygments_lexer": "ipython3",
   "version": "3.7.8"
  }
 },
 "nbformat": 4,
 "nbformat_minor": 4
}
