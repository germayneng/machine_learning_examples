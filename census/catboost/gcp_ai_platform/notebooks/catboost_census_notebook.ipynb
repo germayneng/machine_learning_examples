{
 "cells": [
  {
   "cell_type": "markdown",
   "metadata": {},
   "source": [
    "Used https://github.com/GoogleCloudPlatform/cloudml-samples/blob/master/xgboost/notebooks/census_training/train.py as a starting point and adjusted to CatBoost"
   ]
  },
  {
   "cell_type": "code",
   "execution_count": 37,
   "metadata": {},
   "outputs": [],
   "source": [
    "#Google Cloud Libraries\n",
    "from google.cloud import storage\n",
    "\n",
    "\n",
    "#System Libraries\n",
    "import datetime\n",
    "import subprocess\n",
    "\n",
    "#Data Libraries\n",
    "import pandas as pd\n",
    "import numpy as np\n",
    "\n",
    "#ML Libraries\n",
    "from sklearn.model_selection import train_test_split\n",
    "from sklearn.metrics import accuracy_score\n",
    "from sklearn.preprocessing import LabelEncoder\n",
    "from sklearn.model_selection import train_test_split\n",
    "import xgboost as xgb\n",
    "from catboost import CatBoostClassifier, Pool, cv\n",
    "from catboost import CatBoost, Pool\n",
    "\n"
   ]
  },
  {
   "cell_type": "code",
   "execution_count": 50,
   "metadata": {},
   "outputs": [
    {
     "name": "stdout",
     "output_type": "stream",
     "text": [
      "I see 1 GPU devices\n"
     ]
    }
   ],
   "source": [
    "from catboost.utils import get_gpu_device_count\n",
    "print('I see %i GPU devices' % get_gpu_device_count())"
   ]
  },
  {
   "cell_type": "code",
   "execution_count": 61,
   "metadata": {},
   "outputs": [],
   "source": [
    "# Fill in your Cloud Storage bucket name\n",
    "BUCKET_ID = \"mchrestkha-demo-env-ml-examples\"\n",
    "\n",
    "census_data_filename = 'adult.data.csv'\n",
    "\n",
    "# Public bucket holding the census data\n",
    "bucket = storage.Client().bucket('cloud-samples-data')\n",
    "\n",
    "# Path to the data inside the public bucket\n",
    "data_dir = 'ai-platform/census/data/'\n",
    "\n",
    "# Download the data\n",
    "blob = bucket.blob(''.join([data_dir, census_data_filename]))\n",
    "blob.download_to_filename(census_data_filename)\n"
   ]
  },
  {
   "cell_type": "code",
   "execution_count": 38,
   "metadata": {},
   "outputs": [],
   "source": [
    "# these are the column labels from the census data files\n",
    "COLUMNS = (\n",
    "    'age',\n",
    "    'workclass',\n",
    "    'fnlwgt',\n",
    "    'education',\n",
    "    'education-num',\n",
    "    'marital-status',\n",
    "    'occupation',\n",
    "    'relationship',\n",
    "    'race',\n",
    "    'sex',\n",
    "    'capital-gain',\n",
    "    'capital-loss',\n",
    "    'hours-per-week',\n",
    "    'native-country',\n",
    "    'income-level'\n",
    ")\n",
    "# categorical columns contain data that need to be turned into numerical values before being used by XGBoost\n",
    "CATEGORICAL_COLUMNS = (\n",
    "    'workclass',\n",
    "    'education',\n",
    "    'marital-status',\n",
    "    'occupation',\n",
    "    'relationship',\n",
    "    'race',\n",
    "    'sex',\n",
    "    'native-country'\n",
    ")\n",
    "\n",
    "# Load the training census dataset\n",
    "with open(census_data_filename, 'r') as train_data:\n",
    "    raw_training_data = pd.read_csv(train_data, header=None, names=COLUMNS)\n",
    "# remove column we are trying to predict ('income-level') from features list\n",
    "X = raw_training_data.drop('income-level', axis=1)\n",
    "# create training labels list\n",
    "#train_labels = (raw_training_data['income-level'] == ' >50K')\n",
    "y = raw_training_data['income-level']"
   ]
  },
  {
   "cell_type": "code",
   "execution_count": null,
   "metadata": {},
   "outputs": [],
   "source": []
  },
  {
   "cell_type": "code",
   "execution_count": 39,
   "metadata": {},
   "outputs": [],
   "source": [
    "# Since the census data set has categorical features, we need to convert\n",
    "# them to numerical values.\n",
    "# convert data in categorical columns to numerical values\n",
    "X_enc=X\n",
    "encoders = {col:LabelEncoder() for col in CATEGORICAL_COLUMNS}\n",
    "for col in CATEGORICAL_COLUMNS:\n",
    "    X_enc[col] = encoders[col].fit_transform(X[col])\n",
    "        "
   ]
  },
  {
   "cell_type": "code",
   "execution_count": 40,
   "metadata": {},
   "outputs": [],
   "source": [
    "y_enc=LabelEncoder().fit_transform(y)"
   ]
  },
  {
   "cell_type": "code",
   "execution_count": 43,
   "metadata": {},
   "outputs": [],
   "source": [
    "X_train, X_validation, y_train, y_validation = train_test_split(X_enc, y_enc, train_size=0.75, random_state=42)"
   ]
  },
  {
   "cell_type": "code",
   "execution_count": null,
   "metadata": {},
   "outputs": [],
   "source": [
    "print(type(y))\n",
    "print(type(y_enc))"
   ]
  },
  {
   "cell_type": "code",
   "execution_count": 58,
   "metadata": {},
   "outputs": [
    {
     "name": "stdout",
     "output_type": "stream",
     "text": [
      "Learning rate set to 0.069772\n",
      "0:\tlearn: 0.6282687\ttest: 0.6273059\tbest: 0.6273059 (0)\ttotal: 11.3ms\tremaining: 11.2s\n",
      "50:\tlearn: 0.3021165\ttest: 0.3008721\tbest: 0.3008721 (50)\ttotal: 530ms\tremaining: 9.87s\n",
      "100:\tlearn: 0.2857407\ttest: 0.2886646\tbest: 0.2886646 (100)\ttotal: 1.03s\tremaining: 9.14s\n",
      "150:\tlearn: 0.2748276\ttest: 0.2825841\tbest: 0.2825841 (150)\ttotal: 1.53s\tremaining: 8.59s\n",
      "200:\tlearn: 0.2660846\ttest: 0.2787806\tbest: 0.2787806 (200)\ttotal: 2.02s\tremaining: 8.04s\n",
      "250:\tlearn: 0.2594067\ttest: 0.2771832\tbest: 0.2771832 (250)\ttotal: 2.52s\tremaining: 7.52s\n",
      "Stopped by overfitting detector  (20 iterations wait)\n",
      "\n",
      "bestTest = 0.2770424728\n",
      "bestIteration = 257\n",
      "\n",
      "Shrink model to first 258 iterations.\n",
      "CPU times: user 9.63 s, sys: 788 ms, total: 10.4 s\n",
      "Wall time: 2.85 s\n"
     ]
    },
    {
     "data": {
      "text/plain": [
       "<catboost.core.CatBoostClassifier at 0x7fdb929aa6d0>"
      ]
     },
     "execution_count": 58,
     "metadata": {},
     "output_type": "execute_result"
    }
   ],
   "source": [
    "%%time\n",
    "\n",
    "#model = CatBoost({'iterations':50})\n",
    "model=CatBoostClassifier(\n",
    "        od_type='Iter'\n",
    "#iterations=5000,\n",
    "#custom_loss=['Accuracy']\n",
    ")\n",
    "model.fit(\n",
    "    X_train,y_train,eval_set=(X_validation, y_validation),\n",
    "\n",
    "    verbose=50)\n",
    "\n",
    "# # load data into DMatrix object\n",
    "# dtrain = xgb.DMatrix(train_features, train_labels)\n",
    "# # train model\n",
    "# bst = xgb.train({}, dtrain, 20)"
   ]
  },
  {
   "cell_type": "code",
   "execution_count": null,
   "metadata": {},
   "outputs": [],
   "source": []
  },
  {
   "cell_type": "code",
   "execution_count": null,
   "metadata": {},
   "outputs": [],
   "source": []
  },
  {
   "cell_type": "code",
   "execution_count": 69,
   "metadata": {},
   "outputs": [],
   "source": [
    "# Export the model to a file\n",
    "fname = 'catboost_census_model.onnx'\n",
    "model.save_model(fname, format='onnx')\n",
    "\n",
    "# Upload the model to GCS\n",
    "bucket = storage.Client().bucket(BUCKET_ID)\n",
    "blob = bucket.blob('{}/{}'.format(\n",
    "    datetime.datetime.now().strftime('census/catboost_model_dir/catboost_census_%Y%m%d_%H%M%S'),\n",
    "    fname))\n",
    "blob.upload_from_filename(fname)"
   ]
  },
  {
   "cell_type": "code",
   "execution_count": 66,
   "metadata": {},
   "outputs": [
    {
     "name": "stdout",
     "output_type": "stream",
     "text": [
      "gs://mchrestkha-demo-env-ml-examples/census/catboost_census_20200525_212707/:\n",
      "gs://mchrestkha-demo-env-ml-examples/census/catboost_census_20200525_212707/<catboost.core.CatBoostClassifier object at 0x7fdb929aa6d0>\n",
      "\n",
      "gs://mchrestkha-demo-env-ml-examples/census/catboost_census_20200525_212852/:\n",
      "gs://mchrestkha-demo-env-ml-examples/census/catboost_census_20200525_212852/<catboost.core.CatBoostClassifier object at 0x7fdb929aa6d0>\n",
      "\n",
      "gs://mchrestkha-demo-env-ml-examples/census/catboost_census_20200525_213004/:\n",
      "gs://mchrestkha-demo-env-ml-examples/census/catboost_census_20200525_213004/<catboost.core.CatBoostClassifier object at 0x7fdb929aa6d0>\n",
      "\n",
      "gs://mchrestkha-demo-env-ml-examples/census/xgboost_census_20200525_020526/:\n",
      "gs://mchrestkha-demo-env-ml-examples/census/xgboost_census_20200525_020526/model.bst\n",
      "\n",
      "gs://mchrestkha-demo-env-ml-examples/census/xgboost_census_20200525_021023/:\n",
      "gs://mchrestkha-demo-env-ml-examples/census/xgboost_census_20200525_021023/model.bst\n",
      "\n",
      "gs://mchrestkha-demo-env-ml-examples/census/xgboost_census_20200525_023122/:\n",
      "gs://mchrestkha-demo-env-ml-examples/census/xgboost_census_20200525_023122/model.bst\n",
      "\n",
      "gs://mchrestkha-demo-env-ml-examples/census/xgboost_job_dir/:\n",
      "gs://mchrestkha-demo-env-ml-examples/census/xgboost_job_dir/packages/\n"
     ]
    }
   ],
   "source": [
    "!gsutil ls gs://$BUCKET_ID/census/*"
   ]
  },
  {
   "cell_type": "code",
   "execution_count": null,
   "metadata": {},
   "outputs": [],
   "source": []
  }
 ],
 "metadata": {
  "kernelspec": {
   "display_name": "Python 3",
   "language": "python",
   "name": "python3"
  },
  "language_info": {
   "codemirror_mode": {
    "name": "ipython",
    "version": 3
   },
   "file_extension": ".py",
   "mimetype": "text/x-python",
   "name": "python",
   "nbconvert_exporter": "python",
   "pygments_lexer": "ipython3",
   "version": "3.7.6"
  }
 },
 "nbformat": 4,
 "nbformat_minor": 4
}
